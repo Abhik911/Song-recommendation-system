{
 "cells": [
  {
   "cell_type": "code",
   "execution_count": 4,
   "metadata": {},
   "outputs": [
    {
     "name": "stderr",
     "output_type": "stream",
     "text": [
      "C:\\Users\\Abhik Bhattacharya\\Anaconda3\\lib\\importlib\\_bootstrap.py:219: RuntimeWarning: numpy.ufunc size changed, may indicate binary incompatibility. Expected 192 from C header, got 216 from PyObject\n",
      "  return f(*args, **kwds)\n",
      "C:\\Users\\Abhik Bhattacharya\\Anaconda3\\lib\\importlib\\_bootstrap.py:219: RuntimeWarning: numpy.ufunc size changed, may indicate binary incompatibility. Expected 192 from C header, got 216 from PyObject\n",
      "  return f(*args, **kwds)\n",
      "C:\\Users\\Abhik Bhattacharya\\Anaconda3\\lib\\importlib\\_bootstrap.py:219: RuntimeWarning: numpy.ufunc size changed, may indicate binary incompatibility. Expected 192 from C header, got 216 from PyObject\n",
      "  return f(*args, **kwds)\n"
     ]
    }
   ],
   "source": [
    "## Importing the libraries\n",
    "import pandas as pd\n",
    "import numpy as np\n",
    "import seaborn as sns\n",
    "import matplotlib.pyplot as plt\n",
    "from sklearn.decomposition import NMF"
   ]
  },
  {
   "cell_type": "code",
   "execution_count": 5,
   "metadata": {},
   "outputs": [],
   "source": [
    "# Importing the dataset,index_col = 0 to set the user names to index columns)\n",
    "df = pd.read_csv(\"spotify.csv\",index_col=0)"
   ]
  },
  {
   "cell_type": "code",
   "execution_count": 6,
   "metadata": {},
   "outputs": [
    {
     "data": {
      "text/html": [
       "<div>\n",
       "<style scoped>\n",
       "    .dataframe tbody tr th:only-of-type {\n",
       "        vertical-align: middle;\n",
       "    }\n",
       "\n",
       "    .dataframe tbody tr th {\n",
       "        vertical-align: top;\n",
       "    }\n",
       "\n",
       "    .dataframe thead th {\n",
       "        text-align: right;\n",
       "    }\n",
       "</style>\n",
       "<table border=\"1\" class=\"dataframe\">\n",
       "  <thead>\n",
       "    <tr style=\"text-align: right;\">\n",
       "      <th></th>\n",
       "      <th>song_1</th>\n",
       "      <th>song_2</th>\n",
       "      <th>song_3</th>\n",
       "      <th>song_4</th>\n",
       "      <th>song_5</th>\n",
       "      <th>song_6</th>\n",
       "      <th>song_7</th>\n",
       "      <th>song_8</th>\n",
       "      <th>song_9</th>\n",
       "      <th>song_10</th>\n",
       "      <th>...</th>\n",
       "      <th>song_4991</th>\n",
       "      <th>song_4992</th>\n",
       "      <th>song_4993</th>\n",
       "      <th>song_4994</th>\n",
       "      <th>song_4995</th>\n",
       "      <th>song_4996</th>\n",
       "      <th>song_4997</th>\n",
       "      <th>song_4998</th>\n",
       "      <th>song_4999</th>\n",
       "      <th>song_5000</th>\n",
       "    </tr>\n",
       "  </thead>\n",
       "  <tbody>\n",
       "    <tr>\n",
       "      <td>user_1</td>\n",
       "      <td>2</td>\n",
       "      <td>2</td>\n",
       "      <td>8</td>\n",
       "      <td>8</td>\n",
       "      <td>13</td>\n",
       "      <td>1</td>\n",
       "      <td>4</td>\n",
       "      <td>9</td>\n",
       "      <td>1</td>\n",
       "      <td>2</td>\n",
       "      <td>...</td>\n",
       "      <td>14</td>\n",
       "      <td>2</td>\n",
       "      <td>14</td>\n",
       "      <td>1</td>\n",
       "      <td>9</td>\n",
       "      <td>0</td>\n",
       "      <td>11</td>\n",
       "      <td>6</td>\n",
       "      <td>14</td>\n",
       "      <td>7</td>\n",
       "    </tr>\n",
       "    <tr>\n",
       "      <td>user_2</td>\n",
       "      <td>13</td>\n",
       "      <td>5</td>\n",
       "      <td>5</td>\n",
       "      <td>5</td>\n",
       "      <td>12</td>\n",
       "      <td>8</td>\n",
       "      <td>10</td>\n",
       "      <td>10</td>\n",
       "      <td>2</td>\n",
       "      <td>2</td>\n",
       "      <td>...</td>\n",
       "      <td>10</td>\n",
       "      <td>6</td>\n",
       "      <td>11</td>\n",
       "      <td>1</td>\n",
       "      <td>1</td>\n",
       "      <td>5</td>\n",
       "      <td>12</td>\n",
       "      <td>8</td>\n",
       "      <td>3</td>\n",
       "      <td>0</td>\n",
       "    </tr>\n",
       "    <tr>\n",
       "      <td>user_3</td>\n",
       "      <td>3</td>\n",
       "      <td>9</td>\n",
       "      <td>2</td>\n",
       "      <td>8</td>\n",
       "      <td>0</td>\n",
       "      <td>1</td>\n",
       "      <td>11</td>\n",
       "      <td>7</td>\n",
       "      <td>3</td>\n",
       "      <td>7</td>\n",
       "      <td>...</td>\n",
       "      <td>9</td>\n",
       "      <td>5</td>\n",
       "      <td>7</td>\n",
       "      <td>15</td>\n",
       "      <td>12</td>\n",
       "      <td>13</td>\n",
       "      <td>14</td>\n",
       "      <td>5</td>\n",
       "      <td>0</td>\n",
       "      <td>14</td>\n",
       "    </tr>\n",
       "    <tr>\n",
       "      <td>user_4</td>\n",
       "      <td>2</td>\n",
       "      <td>6</td>\n",
       "      <td>7</td>\n",
       "      <td>8</td>\n",
       "      <td>14</td>\n",
       "      <td>0</td>\n",
       "      <td>12</td>\n",
       "      <td>7</td>\n",
       "      <td>8</td>\n",
       "      <td>1</td>\n",
       "      <td>...</td>\n",
       "      <td>9</td>\n",
       "      <td>15</td>\n",
       "      <td>9</td>\n",
       "      <td>14</td>\n",
       "      <td>10</td>\n",
       "      <td>6</td>\n",
       "      <td>11</td>\n",
       "      <td>13</td>\n",
       "      <td>6</td>\n",
       "      <td>0</td>\n",
       "    </tr>\n",
       "    <tr>\n",
       "      <td>user_5</td>\n",
       "      <td>11</td>\n",
       "      <td>12</td>\n",
       "      <td>8</td>\n",
       "      <td>6</td>\n",
       "      <td>13</td>\n",
       "      <td>7</td>\n",
       "      <td>0</td>\n",
       "      <td>7</td>\n",
       "      <td>3</td>\n",
       "      <td>13</td>\n",
       "      <td>...</td>\n",
       "      <td>12</td>\n",
       "      <td>14</td>\n",
       "      <td>11</td>\n",
       "      <td>11</td>\n",
       "      <td>11</td>\n",
       "      <td>7</td>\n",
       "      <td>3</td>\n",
       "      <td>6</td>\n",
       "      <td>11</td>\n",
       "      <td>7</td>\n",
       "    </tr>\n",
       "  </tbody>\n",
       "</table>\n",
       "<p>5 rows × 5000 columns</p>\n",
       "</div>"
      ],
      "text/plain": [
       "        song_1  song_2  song_3  song_4  song_5  song_6  song_7  song_8  \\\n",
       "user_1       2       2       8       8      13       1       4       9   \n",
       "user_2      13       5       5       5      12       8      10      10   \n",
       "user_3       3       9       2       8       0       1      11       7   \n",
       "user_4       2       6       7       8      14       0      12       7   \n",
       "user_5      11      12       8       6      13       7       0       7   \n",
       "\n",
       "        song_9  song_10  ...  song_4991  song_4992  song_4993  song_4994  \\\n",
       "user_1       1        2  ...         14          2         14          1   \n",
       "user_2       2        2  ...         10          6         11          1   \n",
       "user_3       3        7  ...          9          5          7         15   \n",
       "user_4       8        1  ...          9         15          9         14   \n",
       "user_5       3       13  ...         12         14         11         11   \n",
       "\n",
       "        song_4995  song_4996  song_4997  song_4998  song_4999  song_5000  \n",
       "user_1          9          0         11          6         14          7  \n",
       "user_2          1          5         12          8          3          0  \n",
       "user_3         12         13         14          5          0         14  \n",
       "user_4         10          6         11         13          6          0  \n",
       "user_5         11          7          3          6         11          7  \n",
       "\n",
       "[5 rows x 5000 columns]"
      ]
     },
     "execution_count": 6,
     "metadata": {},
     "output_type": "execute_result"
    }
   ],
   "source": [
    "df.head()"
   ]
  },
  {
   "cell_type": "code",
   "execution_count": 7,
   "metadata": {},
   "outputs": [
    {
     "name": "stdout",
     "output_type": "stream",
     "text": [
      "No. of users 1000\n"
     ]
    }
   ],
   "source": [
    "print(\"No. of users\",len(df))"
   ]
  },
  {
   "cell_type": "code",
   "execution_count": 8,
   "metadata": {},
   "outputs": [
    {
     "name": "stdout",
     "output_type": "stream",
     "text": [
      "No. of songs 5000\n"
     ]
    }
   ],
   "source": [
    "print(\"No. of songs\",len(df.columns))"
   ]
  },
  {
   "cell_type": "markdown",
   "metadata": {},
   "source": [
    "## Applying Non negative matrix factorisation to decompose the entire matrix into a song matrix and user matrix"
   ]
  },
  {
   "cell_type": "code",
   "execution_count": 9,
   "metadata": {},
   "outputs": [],
   "source": [
    "## The dataframe needs to be convereted into an array as it is a requirement for NMF algorithm\n",
    "X = df.iloc[:,:].values"
   ]
  },
  {
   "cell_type": "code",
   "execution_count": 10,
   "metadata": {},
   "outputs": [
    {
     "data": {
      "text/plain": [
       "NMF(alpha=0.0, beta_loss='frobenius', init=None, l1_ratio=0.0, max_iter=50,\n",
       "    n_components=100, random_state=0, shuffle=False, solver='cd', tol=0.0001,\n",
       "    verbose=0)"
      ]
     },
     "execution_count": 10,
     "metadata": {},
     "output_type": "execute_result"
    }
   ],
   "source": [
    "nmf = NMF(n_components=100,max_iter=50,random_state=0)  # 100 specifies no. of features eg: songs may be of different types like\n",
    "                                                        # rock songs,jazzy songs,melody songs,romantic songs etc.\n",
    "nmf.fit(X)"
   ]
  },
  {
   "cell_type": "code",
   "execution_count": 11,
   "metadata": {},
   "outputs": [
    {
     "data": {
      "text/plain": [
       "(1000, 100)"
      ]
     },
     "execution_count": 11,
     "metadata": {},
     "output_type": "execute_result"
    }
   ],
   "source": [
    "user_matrix = nmf.transform(X)\n",
    "user_matrix.shape"
   ]
  },
  {
   "cell_type": "code",
   "execution_count": 12,
   "metadata": {},
   "outputs": [
    {
     "data": {
      "text/plain": [
       "(100, 5000)"
      ]
     },
     "execution_count": 12,
     "metadata": {},
     "output_type": "execute_result"
    }
   ],
   "source": [
    "song_matrix = nmf.components_\n",
    "song_matrix.shape"
   ]
  },
  {
   "cell_type": "code",
   "execution_count": 13,
   "metadata": {},
   "outputs": [
    {
     "data": {
      "text/plain": [
       "(5000, 100)"
      ]
     },
     "execution_count": 13,
     "metadata": {},
     "output_type": "execute_result"
    }
   ],
   "source": [
    "song_matrix = song_matrix.T\n",
    "song_matrix.shape"
   ]
  },
  {
   "cell_type": "code",
   "execution_count": 14,
   "metadata": {},
   "outputs": [
    {
     "data": {
      "text/plain": [
       "array([1.69203641e+00, 6.06332065e-02, 0.00000000e+00, 8.13628465e-01,\n",
       "       1.39890281e+00, 0.00000000e+00, 9.78953027e-01, 0.00000000e+00,\n",
       "       0.00000000e+00, 0.00000000e+00, 2.52894427e+00, 1.55913229e+00,\n",
       "       0.00000000e+00, 1.23133122e+00, 1.29119922e-01, 2.67213682e-03,\n",
       "       1.04063989e-01, 0.00000000e+00, 1.94633651e+00, 0.00000000e+00,\n",
       "       1.97875532e+00, 0.00000000e+00, 2.54497254e+00, 1.00914138e+00,\n",
       "       0.00000000e+00, 2.40786219e+00, 0.00000000e+00, 2.02945799e+00,\n",
       "       0.00000000e+00, 1.03086289e-01, 3.37495589e+00, 1.83250348e+00,\n",
       "       2.61682332e+00, 0.00000000e+00, 0.00000000e+00, 0.00000000e+00,\n",
       "       0.00000000e+00, 0.00000000e+00, 0.00000000e+00, 0.00000000e+00,\n",
       "       0.00000000e+00, 0.00000000e+00, 0.00000000e+00, 2.31686358e-01,\n",
       "       0.00000000e+00, 0.00000000e+00, 0.00000000e+00, 2.42039683e-01,\n",
       "       0.00000000e+00, 0.00000000e+00, 1.18281146e-01, 0.00000000e+00,\n",
       "       0.00000000e+00, 0.00000000e+00, 0.00000000e+00, 0.00000000e+00,\n",
       "       0.00000000e+00, 0.00000000e+00, 0.00000000e+00, 2.35217688e+00,\n",
       "       0.00000000e+00, 0.00000000e+00, 0.00000000e+00, 0.00000000e+00,\n",
       "       0.00000000e+00, 0.00000000e+00, 0.00000000e+00, 0.00000000e+00,\n",
       "       8.56861338e-01, 0.00000000e+00, 9.98488519e-02, 0.00000000e+00,\n",
       "       0.00000000e+00, 0.00000000e+00, 0.00000000e+00, 4.61577229e-01,\n",
       "       0.00000000e+00, 7.91904338e-02, 8.05900966e-01, 1.20024899e-01,\n",
       "       0.00000000e+00, 0.00000000e+00, 0.00000000e+00, 2.89603283e-01,\n",
       "       5.52879571e-01, 5.07447304e-02, 3.56427160e-01, 0.00000000e+00,\n",
       "       0.00000000e+00, 0.00000000e+00, 6.17583221e-01, 0.00000000e+00,\n",
       "       1.59158086e-01, 1.59387045e+00, 0.00000000e+00, 0.00000000e+00,\n",
       "       0.00000000e+00, 0.00000000e+00, 0.00000000e+00, 0.00000000e+00])"
      ]
     },
     "execution_count": 14,
     "metadata": {},
     "output_type": "execute_result"
    }
   ],
   "source": [
    "user_matrix[0]"
   ]
  },
  {
   "cell_type": "markdown",
   "metadata": {},
   "source": [
    "## Steps in building a recommendation system\n",
    "1. Let us consider, we want to recommend songs for user 1\n",
    "2. Find the Euclidean distance between user 1 and every other user.\n",
    "3. Find songs that are frequently listened by closest 5 users to user 1\n",
    "4. Out of all the songs, that are listened by top 5 users, we can filter 5 or 10 most listened songs and recommend these songs to user 1."
   ]
  },
  {
   "cell_type": "code",
   "execution_count": 15,
   "metadata": {},
   "outputs": [],
   "source": [
    "## Define a function for calculating the euclidean distance\n",
    "## ED = sqrt((y1-y2)^2+(x1-x2)^2)\n",
    "def CalculateED(v1, v2):\n",
    "    return pow(sum([pow(v1[x]-v2[x],2) for x in range(len(v1))]),0.5)"
   ]
  },
  {
   "cell_type": "code",
   "execution_count": 16,
   "metadata": {},
   "outputs": [],
   "source": [
    "# v1 = [2,3,4]\n",
    "# v2 = [4,5,6]\n",
    "# CalculateED(v1, v2)"
   ]
  },
  {
   "cell_type": "code",
   "execution_count": 17,
   "metadata": {},
   "outputs": [],
   "source": [
    "# pow(pow((4-2),2)+pow((5-3),2)+pow((6-4),2),0.5)"
   ]
  },
  {
   "cell_type": "code",
   "execution_count": 18,
   "metadata": {},
   "outputs": [],
   "source": [
    "# abc = [0,1,2,3,4,5,6,7,8,9,10]\n",
    "# odd = [x for x in range(len(abc)) if x%2!=0]\n",
    "# print(abc)\n",
    "# print(odd)"
   ]
  },
  {
   "cell_type": "code",
   "execution_count": 19,
   "metadata": {},
   "outputs": [
    {
     "data": {
      "text/plain": [
       "12.68254695208775"
      ]
     },
     "execution_count": 19,
     "metadata": {},
     "output_type": "execute_result"
    }
   ],
   "source": [
    "import sys \n",
    "distance = CalculateED(user_matrix[0],user_matrix[1])\n",
    "distance"
   ]
  },
  {
   "cell_type": "code",
   "execution_count": 20,
   "metadata": {},
   "outputs": [],
   "source": [
    "def CalculatedistanceFromOtherUsers(curr_user,user_matrix):\n",
    "    distances=[] ## This is an empty list to collect the distance between every user wrt current user\n",
    "    for i in range(len(user_matrix)):\n",
    "        if i == curr_user:  ## Check if the current user - iterated user\n",
    "            distances.append(sys.float_info.max)  ## If so, just assign a big float value \n",
    "                                                  ##in the distance array indicating its a current user\n",
    "        \n",
    "        else:                                     ## If not, then calculate the Euclidean distance \n",
    "                                                  ##between the current user and every other user.\n",
    "            distances.append(CalculateED(user_matrix[curr_user], user_matrix[i]))\n",
    "            \n",
    "    return distances"
   ]
  },
  {
   "cell_type": "code",
   "execution_count": 21,
   "metadata": {},
   "outputs": [],
   "source": [
    "def RecommendSongs(curr_user,user_matrix,df,n_songs=5):\n",
    "    distances=[] ## This is an empty list to collect the distance between every user wrt current user\n",
    "    for i in range(len(user_matrix)):\n",
    "        if i == curr_user:  ## Check if the current user - iterated user\n",
    "            distances.append(sys.float_info.max)  ## If so, just assign a big float value \n",
    "                                                  ##in the distance array indicating its a current user\n",
    "        \n",
    "        else:                                     ## If not, then calculate the Euclidean distance \n",
    "                                                  ##between the current user and every other user.\n",
    "            distances.append(CalculateED(user_matrix[curr_user], user_matrix[i]))\n",
    "            \n",
    "    closest_indexes=np.argsort(distances)[0:5]\n",
    "    \n",
    "    \n",
    "    new_df = df.iloc[closest_indexes]\n",
    "    \n",
    "    return new_df.sum().sort_values(ascending=False).head(n_songs).index"
   ]
  },
  {
   "cell_type": "code",
   "execution_count": 22,
   "metadata": {},
   "outputs": [],
   "source": [
    "distance_user0=CalculatedistanceFromOtherUsers(0,user_matrix)"
   ]
  },
  {
   "cell_type": "code",
   "execution_count": 23,
   "metadata": {},
   "outputs": [],
   "source": [
    "##closest_indexes=np.argsort(distance_user0)[0:5]  ## By doing argument sort, the sorting will happen \n",
    "                                                ## based on the the indexes of the user"
   ]
  },
  {
   "cell_type": "code",
   "execution_count": 24,
   "metadata": {},
   "outputs": [],
   "source": [
    "# songs which are most listened by these top 5 users"
   ]
  },
  {
   "cell_type": "code",
   "execution_count": 25,
   "metadata": {},
   "outputs": [],
   "source": [
    "## These songs should be recommended to the users"
   ]
  },
  {
   "cell_type": "code",
   "execution_count": 26,
   "metadata": {},
   "outputs": [
    {
     "data": {
      "text/plain": [
       "Index(['song_4510', 'song_3976', 'song_3944', 'song_2218', 'song_1266',\n",
       "       'song_2657', 'song_383'],\n",
       "      dtype='object')"
      ]
     },
     "execution_count": 26,
     "metadata": {},
     "output_type": "execute_result"
    }
   ],
   "source": [
    "RecommendSongs(2,user_matrix,df,7)"
   ]
  },
  {
   "cell_type": "code",
   "execution_count": 27,
   "metadata": {},
   "outputs": [],
   "source": [
    "## Performing KMeans clustering\n",
    "\n",
    "from sklearn.cluster import KMeans"
   ]
  },
  {
   "cell_type": "code",
   "execution_count": 28,
   "metadata": {},
   "outputs": [
    {
     "data": {
      "text/plain": [
       "KMeans(algorithm='auto', copy_x=True, init='k-means++', max_iter=300,\n",
       "       n_clusters=10, n_init=10, n_jobs=None, precompute_distances='auto',\n",
       "       random_state=None, tol=0.0001, verbose=0)"
      ]
     },
     "execution_count": 28,
     "metadata": {},
     "output_type": "execute_result"
    }
   ],
   "source": [
    "kmeans = KMeans(n_clusters=10)\n",
    "kmeans.fit(song_matrix)\n"
   ]
  },
  {
   "cell_type": "code",
   "execution_count": 29,
   "metadata": {},
   "outputs": [
    {
     "name": "stdout",
     "output_type": "stream",
     "text": [
      "4\n"
     ]
    }
   ],
   "source": [
    "#Find the cluster to which the song listened by user0 exists.\n",
    "\n",
    "#Assume that user1 is listening to song no. 5\n",
    "\n",
    "index_in_df = list(df.columns).index('song_5')\n",
    "print(index_in_df)"
   ]
  },
  {
   "cell_type": "code",
   "execution_count": 30,
   "metadata": {},
   "outputs": [],
   "source": [
    "song_vector = song_matrix[index_in_df]"
   ]
  },
  {
   "cell_type": "code",
   "execution_count": 31,
   "metadata": {},
   "outputs": [
    {
     "data": {
      "text/plain": [
       "array([3])"
      ]
     },
     "execution_count": 31,
     "metadata": {},
     "output_type": "execute_result"
    }
   ],
   "source": [
    "kmeans.predict([song_vector])\n"
   ]
  },
  {
   "cell_type": "markdown",
   "metadata": {},
   "source": [
    "# Process\n",
    "\n",
    "### Take a input of which song a given user is listening.\n",
    "### Find to which cluster does the song being listened belong\n",
    "### Find all the songs belonging to the cluster which the listened song belongs.\n",
    "### Use KNN algorithm to find closest 5 songs to a given song in that perticular cluster"
   ]
  },
  {
   "cell_type": "code",
   "execution_count": 32,
   "metadata": {},
   "outputs": [],
   "source": [
    "all_songs_cluster_IDs = list(kmeans.predict(song_matrix))"
   ]
  },
  {
   "cell_type": "code",
   "execution_count": 34,
   "metadata": {},
   "outputs": [],
   "source": [
    "songs_in_selected_cluster_ID = [x for x in range(len(all_songs_cluster_IDs)) if all_songs_cluster_IDs[x] == kmeans.predict([song_vector])] "
   ]
  },
  {
   "cell_type": "code",
   "execution_count": 35,
   "metadata": {},
   "outputs": [
    {
     "name": "stdout",
     "output_type": "stream",
     "text": [
      "Total no. of songs in cluster ID [3] are 507\n"
     ]
    }
   ],
   "source": [
    "print(f'Total no. of songs in cluster ID {kmeans.predict([song_vector])} are {len(songs_in_selected_cluster_ID)}')"
   ]
  },
  {
   "cell_type": "code",
   "execution_count": 36,
   "metadata": {},
   "outputs": [],
   "source": [
    "song_cluster = song_matrix[songs_in_selected_cluster_ID]"
   ]
  },
  {
   "cell_type": "code",
   "execution_count": 37,
   "metadata": {},
   "outputs": [
    {
     "data": {
      "text/plain": [
       "NearestNeighbors(algorithm='auto', leaf_size=30, metric='minkowski',\n",
       "                 metric_params=None, n_jobs=None, n_neighbors=5, p=2,\n",
       "                 radius=1.0)"
      ]
     },
     "execution_count": 37,
     "metadata": {},
     "output_type": "execute_result"
    }
   ],
   "source": [
    "#Top 5 nearest songs\n",
    "\n",
    "from sklearn.neighbors import NearestNeighbors\n",
    "\n",
    "knn = NearestNeighbors(n_neighbors=5)\n",
    "knn.fit(song_cluster)"
   ]
  },
  {
   "cell_type": "code",
   "execution_count": 38,
   "metadata": {},
   "outputs": [
    {
     "data": {
      "text/plain": [
       "Index([['song_2', 'song_428', 'song_299', 'song_88', 'song_206']], dtype='object')"
      ]
     },
     "execution_count": 38,
     "metadata": {},
     "output_type": "execute_result"
    }
   ],
   "source": [
    "\n",
    "song_IDs = knn.kneighbors([song_matrix[index_in_df]])[1]\n",
    "\n",
    "df.columns[song_IDs]"
   ]
  },
  {
   "cell_type": "code",
   "execution_count": 39,
   "metadata": {},
   "outputs": [],
   "source": [
    " def OptimisedRecommender(song_matrix, song_name, df, n_songs=5):\n",
    "        from sklearn.cluster import KMeans\n",
    "        from sklearn.neighbors import NearestNeighbors\n",
    "        \n",
    "        kmeans = KMeans(n_clusters=10)\n",
    "        kmeans.fit(song_matrix)\n",
    "        index_in_df = list(df.columns).index(song_name)\n",
    "        song_vector = song_matrix[index_in_df]\n",
    "        kmeans.predict([song_vector])\n",
    "        all_songs_cluster_IDs = list(kmeans.predict(song_matrix))\n",
    "        songs_in_selected_cluster_ID = [x for x in range(len(all_songs_cluster_IDs)) if all_songs_cluster_IDs[x] == kmeans.predict([song_vector])] \n",
    "        song_cluster = song_matrix[songs_in_selected_cluster_ID]\n",
    "        \n",
    "        knn = NearestNeighbors(n_neighbors=n_songs)\n",
    "        knn.fit(song_cluster)\n",
    "        \n",
    "        song_IDs = knn.kneighbors([song_matrix[index_in_df]])[1]\n",
    "\n",
    "        return df.columns[song_IDs]"
   ]
  },
  {
   "cell_type": "code",
   "execution_count": 40,
   "metadata": {},
   "outputs": [
    {
     "data": {
      "text/plain": [
       "Index([['song_4', 'song_247', 'song_172', 'song_23', 'song_286', 'song_366', 'song_438', 'song_268']], dtype='object')"
      ]
     },
     "execution_count": 40,
     "metadata": {},
     "output_type": "execute_result"
    }
   ],
   "source": [
    "OptimisedRecommender(song_matrix, 'song_55', df, 8)"
   ]
  },
  {
   "cell_type": "code",
   "execution_count": null,
   "metadata": {},
   "outputs": [],
   "source": []
  }
 ],
 "metadata": {
  "kernelspec": {
   "display_name": "Python 3",
   "language": "python",
   "name": "python3"
  },
  "language_info": {
   "codemirror_mode": {
    "name": "ipython",
    "version": 3
   },
   "file_extension": ".py",
   "mimetype": "text/x-python",
   "name": "python",
   "nbconvert_exporter": "python",
   "pygments_lexer": "ipython3",
   "version": "3.7.4"
  }
 },
 "nbformat": 4,
 "nbformat_minor": 2
}
